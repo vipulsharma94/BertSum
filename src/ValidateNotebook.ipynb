{
  "cells": [
    {
      "cell_type": "markdown",
      "metadata": {},
      "source": [
        "### Final Evaluation"
      ]
    },
    {
      "cell_type": "code",
      "execution_count": null,
      "metadata": {},
      "outputs": [],
      "source": [
        "#Experiment 1\n",
        "# Train params :- 8 heads, 25000 steps, 2 inter_layers, 2e-3 lr, and 5000 warmup_steps. \n",
        "#For Running this we now need to comment a few lines encoder.py\n",
        "!python train.py -mode validate -bert_data_path ../bert_data_sync/cnndm  -model_path ../Exp1_model_SOA/models/bert_transformer  -visible_gpus 0  -gpu_ranks 0 -batch_size 30000  -log_file ../Exp1_model_SOA/logs/bert_transformer_test  -result_path ../Exp1_model_SOA/results/cnndm -test_all -block_trigram true -temp_dir ../Exp1_model_SOA/temp"
      ]
    },
    {
      "cell_type": "code",
      "execution_count": null,
      "metadata": {},
      "outputs": [],
      "source": [
        "#Experiment 2\n",
        "# Train params :- 3 heads, 25000 steps, 2 inter_layers, 5000 warmup_steps, 2e-3 lr, and [0,1,2] syntFeatIndexList.\n",
        "\n",
        "!python train.py -mode validate -bert_data_path ../bert_data_sync/cnndm  -model_path ../Exp2_model_wordsFeat/models/bert_transformer  -visible_gpus 0  -gpu_ranks 0 -batch_size 30000  -log_file ../Exp2_model_wordsFeat/logs/bert_transformer_test  -result_path ../Exp2_model_wordsFeat/results/cnndm -test_all -block_trigram true -temp_dir ../Exp2_model_wordsFeat/temp -syntFeatIndexList \"0,1,2\""
      ]
    },
    {
      "cell_type": "code",
      "execution_count": null,
      "metadata": {},
      "outputs": [],
      "source": [
        "#Experiment 3\n",
        "# Train params :- 9 heads, 25000 steps, 2 inter_layers, 5000 warmup_steps, 2e-3 lr, and [9,10,11,12,13,14] syntFeatIndexList.\n",
        "\n",
        "!python train.py -mode validate -bert_data_path ../bert_data_sync/cnndm  -model_path ../Exp3_model_sentPosLen/models/bert_transformer  -visible_gpus 0  -gpu_ranks 0 -batch_size 30000  -log_file ../Exp3_model_sentPosLen/logs/bert_transformer_test  -result_path ../Exp3_model_sentPosLen/results/cnndm -test_all -block_trigram true -temp_dir ../Exp3_model_sentPosLen/temp -syntFeatIndexList \"9,10,11,12,13,14\""
      ]
    },
    {
      "cell_type": "code",
      "execution_count": null,
      "metadata": {},
      "outputs": [],
      "source": [
        "#Experiment 4\n",
        "#Train params :- 7 heads, 25000 steps, 2 inter_layers, 5000 warmup_steps, 2e-3 lr, and [3,4,5,6,7,8,15,16,17] syntFeatIndexList.\n",
        "\n",
        "!python train.py -mode validate -bert_data_path ../bert_data_sync/cnndm  -model_path ../Exp4_model_posAndPhrase/models/bert_transformer  -visible_gpus 0  -gpu_ranks 0 -batch_size 30000  -log_file ../Exp4_model_posAndPhrase/logs/bert_transformer_test  -result_path ../Exp4_model_posAndPhrase/results/cnndm -test_all -block_trigram true -temp_dir ../Exp4_model_posAndPhrase/temp -syntFeatIndexList \"3,4,5,6,7,8,15,16,17\""
      ]
    },
    {
      "cell_type": "code",
      "execution_count": null,
      "metadata": {},
      "outputs": [],
      "source": [
        "#Experiment 5\n",
        "#Train params :- 8 heads, 25000 steps, 2 inter_layers, 5000 warmup_steps, 2e-3 lr, and  [0,1,2,10,11,12,13,14] syntFeatIndexList.\n",
        "\n",
        "!python train.py -mode validate -bert_data_path ../bert_data_sync/cnndm  -model_path ../Exp5_model_wordsAndSent/models/bert_transformer  -visible_gpus 0  -gpu_ranks 0 -batch_size 30000  -log_file ../Exp5_model_wordsAndSent/logs/bert_transformer_test  -result_path ../Exp5_model_wordsAndSent/results/cnndm -test_all -block_trigram true -temp_dir ../Exp5_model_wordsAndSent/temp -syntFeatIndexList \"0,1,2,10,11,12,13,14\""
      ]
    },
    {
      "cell_type": "code",
      "execution_count": null,
      "metadata": {},
      "outputs": [],
      "source": [
        "#Experiment 6\n",
        "#Train params :- 6 heads, 25000 steps, 2 inter_layers, 2e-3 lr, and 5000 warmup_steps.\n",
        "\n",
        "!python train.py -mode validate -bert_data_path ../bert_data_sync/cnndm  -model_path ../Exp6_model_allFeats/models/bert_transformer  -visible_gpus 0  -gpu_ranks 0 -batch_size 30000  -log_file ../Exp6_model_allFeats/logs/bert_transformer_test  -result_path ../Exp6_model_allFeats/results/cnndm -test_all -block_trigram true -temp_dir ../Exp6_model_allFeats/temp"
      ]
    },
    {
      "cell_type": "code",
      "execution_count": null,
      "metadata": {},
      "outputs": [],
      "source": [
        "#Experiment 7\n",
        "#Train params :- 14 heads, 25000 steps, 2 inter_layers, 2e-3 lr, and 5000 warmup_steps.\n",
        "\n",
        "!python train.py -mode validate -bert_data_path ../bert_data_sync/cnndm  -model_path ../Exp7_model_increasedHeads/models/bert_transformer  -visible_gpus 0  -gpu_ranks 0 -batch_size 30000  -log_file ../Exp7_model_increasedHeads/logs/bert_transformer_test  -result_path ../Exp7_model_increasedHeads/results/cnndm -test_all -block_trigram true -temp_dir ../Exp7_model_increasedHeads/temp -syntFeatIndexList \"1,2,3,4,5,6,7,8,10,11,12,13,14,15,16,17\""
      ]
    },
    {
      "cell_type": "code",
      "execution_count": null,
      "metadata": {},
      "outputs": [],
      "source": [
        "#Experiment 8\n",
        "#Train params :- 6 heads, 35000 steps, 2 inter_layers, 2e-4 lr. And 5000 warmup_steps\n",
        "\n",
        "!python train.py -mode validate -bert_data_path ../bert_data_sync/cnndm  -model_path ../Exp8_model_lowerLR/models/bert_transformer  -visible_gpus 0  -gpu_ranks 0 -batch_size 30000  -log_file ../Exp8_model_lowerLR/logs/bert_transformer_test  -result_path ../Exp8_model_lowerLR/results/cnndm -test_all -block_trigram true -temp_dir ../Exp8_model_lowerLR/temp -syntFeatIndexList b"
      ]
    },
    {
      "cell_type": "code",
      "execution_count": null,
      "metadata": {},
      "outputs": [],
      "source": [
        "#Experiment 9\n",
        "#Train params :- 6 heads, 25000 steps, 2 inter_layers, 2e-2 lr. And 3000 warmup_steps.\n",
        "\n",
        "!python train.py -mode validate -bert_data_path ../bert_data_sync/cnndm  -model_path ../Exp9_model_higherLR/models/bert_transformer  -visible_gpus 0  -gpu_ranks 0 -batch_size 30000  -log_file ../Exp9_model_higherLR/logs/bert_transformer_test  -result_path ../Exp9_model_higherLR/results/cnndm -test_all -block_trigram true -temp_dir ../Exp9_model_higherLR/temp -syntFeatIndexList "
      ]
    },
    {
      "cell_type": "code",
      "execution_count": null,
      "metadata": {},
      "outputs": [],
      "source": [
        "#Experiment 10\n",
        "#Train params :- 6 heads, 25000 steps, 3 inter_layers, 2e-3 lr. And 5000 warmup_steps.\n",
        "\n",
        "!python train.py -mode validate -bert_data_path ../bert_data_sync/cnndm  -model_path ../Exp10_model_extraLayer/models/bert_transformer  -visible_gpus 0  -gpu_ranks 0 -batch_size 30000  -log_file ../Exp10_model_extraLayer/logs/bert_transformer_test  -result_path ../Exp10_model_extraLayer/results/cnndm -test_all -block_trigram true -temp_dir ../Exp10_model_extraLayer/temp -syntFeatIndexList "
      ]
    },
    {
      "cell_type": "code",
      "execution_count": null,
      "metadata": {},
      "outputs": [],
      "source": []
    },
    {
      "cell_type": "code",
      "execution_count": null,
      "metadata": {},
      "outputs": [],
      "source": []
    },
    {
      "cell_type": "code",
      "execution_count": null,
      "metadata": {},
      "outputs": [],
      "source": []
    }
  ],
  "metadata": {
    "interpreter": {
      "hash": "ca7d09a1a4271beb368e0eee4e97c0723f0fb16c9145fcfc98611f23c52a0ba7"
    },
    "kernel_info": {
      "name": "azureml_py38_pt_tf"
    },
    "kernelspec": {
      "display_name": "Python 3.8 - Pytorch and Tensorflow",
      "language": "python",
      "name": "python3"
    },
    "language_info": {
      "codemirror_mode": {
        "name": "ipython",
        "version": 3
      },
      "file_extension": ".py",
      "mimetype": "text/x-python",
      "name": "python",
      "nbconvert_exporter": "python",
      "pygments_lexer": "ipython3",
      "version": "3.7.3"
    },
    "microsoft": {
      "host": {
        "AzureML": {
          "notebookHasBeenCompleted": true
        }
      }
    },
    "nteract": {
      "version": "nteract-front-end@1.0.0"
    }
  },
  "nbformat": 4,
  "nbformat_minor": 2
}
